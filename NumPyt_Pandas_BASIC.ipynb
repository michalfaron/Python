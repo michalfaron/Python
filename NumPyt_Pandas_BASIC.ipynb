{
 "cells": [
  {
   "cell_type": "code",
   "execution_count": 55,
   "metadata": {},
   "outputs": [],
   "source": [
    "import pandas as pd\n",
    "import numpy as np\n",
    "import datetime as dt"
   ]
  },
  {
   "cell_type": "markdown",
   "metadata": {},
   "source": [
    "# Serie z NumPy"
   ]
  },
  {
   "cell_type": "markdown",
   "metadata": {},
   "source": [
    "## Serie Python"
   ]
  },
  {
   "cell_type": "code",
   "execution_count": 56,
   "metadata": {},
   "outputs": [],
   "source": [
    "seria_lista=pd.Series([1,2,3,4,5])"
   ]
  },
  {
   "cell_type": "code",
   "execution_count": 57,
   "metadata": {},
   "outputs": [],
   "source": [
    "seria_slownik=pd.Series({'a':1, 'b':2, 'c':3,'d':4, 'e':5})"
   ]
  },
  {
   "cell_type": "code",
   "execution_count": 58,
   "metadata": {},
   "outputs": [],
   "source": [
    "seria_data = pd.Series(pd.date_range(start=pd.Timestamp.today(), periods=5))\n",
    "seria_data = seria_data.dt.date"
   ]
  },
  {
   "cell_type": "markdown",
   "metadata": {},
   "source": [
    "## Serie NumPy"
   ]
  },
  {
   "cell_type": "code",
   "execution_count": 59,
   "metadata": {},
   "outputs": [],
   "source": [
    "seria_array=pd.Series(np.array([1,2,3,4,5]))"
   ]
  },
  {
   "cell_type": "code",
   "execution_count": 60,
   "metadata": {},
   "outputs": [],
   "source": [
    "seria_full=pd.Series(np.full( (5), 12 ))"
   ]
  },
  {
   "cell_type": "code",
   "execution_count": 61,
   "metadata": {},
   "outputs": [],
   "source": [
    "seria_arange = pd.Series(np.arange(start=1,stop=6,step=1))"
   ]
  },
  {
   "cell_type": "code",
   "execution_count": 62,
   "metadata": {},
   "outputs": [],
   "source": [
    "seria_linspace=pd.Series(np.linspace(start=1,stop=5,num=5,dtype='int16'))"
   ]
  },
  {
   "cell_type": "code",
   "execution_count": 63,
   "metadata": {},
   "outputs": [],
   "source": [
    "seria_random=pd.Series(np.random.rand(5))"
   ]
  },
  {
   "cell_type": "markdown",
   "metadata": {},
   "source": [
    "## Macierze NumPy"
   ]
  },
  {
   "cell_type": "code",
   "execution_count": 64,
   "metadata": {},
   "outputs": [],
   "source": [
    "array_numpy = np.array([1,2,3,4,5])"
   ]
  },
  {
   "cell_type": "code",
   "execution_count": 65,
   "metadata": {},
   "outputs": [],
   "source": [
    "jedynki_numpy = np.ones((3,5),dtype='int8')"
   ]
  },
  {
   "cell_type": "code",
   "execution_count": 66,
   "metadata": {},
   "outputs": [],
   "source": [
    "zera_numpy = np.zeros((6,3), dtype='int8')"
   ]
  },
  {
   "cell_type": "code",
   "execution_count": 67,
   "metadata": {},
   "outputs": [],
   "source": [
    "diagonal_numpy = np.eye(5)"
   ]
  },
  {
   "cell_type": "code",
   "execution_count": 68,
   "metadata": {},
   "outputs": [],
   "source": [
    "macierz_full=np.full((2,5),10) "
   ]
  },
  {
   "cell_type": "code",
   "execution_count": 69,
   "metadata": {},
   "outputs": [],
   "source": [
    "zakres_numpy = np.arange(start=10, stop=30, step=1,dtype='int16')"
   ]
  },
  {
   "cell_type": "code",
   "execution_count": 70,
   "metadata": {},
   "outputs": [],
   "source": [
    "losowy_numpy = np.random.rand(10,3)"
   ]
  },
  {
   "cell_type": "code",
   "execution_count": 71,
   "metadata": {},
   "outputs": [],
   "source": [
    "losowy_przedzial_numpy = np.random.randint(low=1, high=10,size=(2,3))"
   ]
  },
  {
   "cell_type": "markdown",
   "metadata": {},
   "source": [
    "## Proste komendy w pakiecie NumPy"
   ]
  },
  {
   "cell_type": "code",
   "execution_count": 72,
   "metadata": {},
   "outputs": [
    {
     "data": {
      "text/plain": [
       "2"
      ]
     },
     "execution_count": 72,
     "metadata": {},
     "output_type": "execute_result"
    }
   ],
   "source": [
    "jedynki_numpy.ndim #liczba wymiarów macierzy"
   ]
  },
  {
   "cell_type": "code",
   "execution_count": 73,
   "metadata": {},
   "outputs": [
    {
     "data": {
      "text/plain": [
       "(6, 3)"
      ]
     },
     "execution_count": 73,
     "metadata": {},
     "output_type": "execute_result"
    }
   ],
   "source": [
    "zera_numpy.shape #rozmiar macierzy"
   ]
  },
  {
   "cell_type": "code",
   "execution_count": 74,
   "metadata": {},
   "outputs": [
    {
     "data": {
      "text/plain": [
       "10"
      ]
     },
     "execution_count": 74,
     "metadata": {},
     "output_type": "execute_result"
    }
   ],
   "source": [
    "macierz_full.size #liczba elementów w macierzy"
   ]
  },
  {
   "cell_type": "code",
   "execution_count": 75,
   "metadata": {},
   "outputs": [
    {
     "data": {
      "text/plain": [
       "dtype('int16')"
      ]
     },
     "execution_count": 75,
     "metadata": {},
     "output_type": "execute_result"
    }
   ],
   "source": [
    "zakres_numpy.dtype #typ danych w macierzy"
   ]
  },
  {
   "cell_type": "code",
   "execution_count": 76,
   "metadata": {},
   "outputs": [
    {
     "data": {
      "text/plain": [
       "8"
      ]
     },
     "execution_count": 76,
     "metadata": {},
     "output_type": "execute_result"
    }
   ],
   "source": [
    "losowy_numpy.itemsize #liczba bitów dla każdej wartości w macierzy"
   ]
  },
  {
   "cell_type": "code",
   "execution_count": 77,
   "metadata": {},
   "outputs": [
    {
     "data": {
      "text/plain": [
       "array([[[0, 0, 0],\n",
       "        [0, 0, 0]],\n",
       "\n",
       "       [[0, 0, 0],\n",
       "        [0, 0, 0]],\n",
       "\n",
       "       [[0, 0, 0],\n",
       "        [0, 0, 0]]], dtype=int8)"
      ]
     },
     "execution_count": 77,
     "metadata": {},
     "output_type": "execute_result"
    }
   ],
   "source": [
    "zera_numpy.reshape(3,2,3) #zmienia "
   ]
  },
  {
   "cell_type": "markdown",
   "metadata": {},
   "source": [
    "## Indexing/slicing/subsetting"
   ]
  },
  {
   "cell_type": "code",
   "execution_count": 107,
   "metadata": {},
   "outputs": [
    {
     "data": {
      "text/plain": [
       "array([[54.2544368 , 14.21700476, 37.33407601, 67.41336151, 44.18331744],\n",
       "       [43.40139933, 61.77669785, 51.31382426, 65.03971819, 60.10389534],\n",
       "       [80.52231968, 52.16471524, 90.86488808, 31.9236089 ,  9.04593493],\n",
       "       [30.07000566, 11.39843619, 82.86813263,  4.68963194, 62.62871483],\n",
       "       [54.75861559, 81.92869957, 19.89475397, 85.68503025, 35.16526394]])"
      ]
     },
     "execution_count": 107,
     "metadata": {},
     "output_type": "execute_result"
    }
   ],
   "source": [
    "np.random.seed(10) #ustawienie generatora liczb pseudolosowych, dzięki temu wszyscy mamy te same liczby losowe, ten sam generator\n",
    "tablica = np.random.randint(low=1, high=100, size=(5,5))\n",
    "tablica = np.random.rand(5,5)*100\n",
    "tablica"
   ]
  },
  {
   "cell_type": "code",
   "execution_count": 79,
   "metadata": {},
   "outputs": [
    {
     "data": {
      "text/plain": [
       "array([54.75861559, 81.92869957, 19.89475397, 85.68503025, 35.16526394])"
      ]
     },
     "execution_count": 79,
     "metadata": {},
     "output_type": "execute_result"
    }
   ],
   "source": [
    "tablica[4] # wiersz 5-ty z zakresu"
   ]
  },
  {
   "cell_type": "code",
   "execution_count": 80,
   "metadata": {},
   "outputs": [
    {
     "data": {
      "text/plain": [
       "81.92869956700687"
      ]
     },
     "execution_count": 80,
     "metadata": {},
     "output_type": "execute_result"
    }
   ],
   "source": [
    "tablica[4,1] # wiersz 5-ty, wartość 2-ga"
   ]
  },
  {
   "cell_type": "code",
   "execution_count": 81,
   "metadata": {},
   "outputs": [],
   "source": [
    "tablica[4,1:3] = 5 # przypisanie wartości do zakresu"
   ]
  },
  {
   "cell_type": "code",
   "execution_count": 82,
   "metadata": {},
   "outputs": [
    {
     "data": {
      "text/plain": [
       "array([[43.40139933, 51.31382426, 60.10389534],\n",
       "       [30.07000566, 82.86813263, 62.62871483]])"
      ]
     },
     "execution_count": 82,
     "metadata": {},
     "output_type": "execute_result"
    }
   ],
   "source": [
    "tablica[1::2,0::2] # nieparzyste kolumny i parzyste wiersze"
   ]
  },
  {
   "cell_type": "code",
   "execution_count": 83,
   "metadata": {},
   "outputs": [
    {
     "data": {
      "text/plain": [
       "array([67.41336151, 65.03971819, 31.9236089 ,  4.68963194, 85.68503025])"
      ]
     },
     "execution_count": 83,
     "metadata": {},
     "output_type": "execute_result"
    }
   ],
   "source": [
    "tablica[:,3] # pokazanie wartości 3-ciej we wszystkich wierszach"
   ]
  },
  {
   "cell_type": "code",
   "execution_count": 84,
   "metadata": {},
   "outputs": [
    {
     "data": {
      "text/plain": [
       "array([[ True, False, False,  True, False],\n",
       "       [False,  True,  True,  True,  True],\n",
       "       [ True,  True,  True, False, False],\n",
       "       [False, False,  True, False,  True],\n",
       "       [ True, False, False,  True, False]])"
      ]
     },
     "execution_count": 84,
     "metadata": {},
     "output_type": "execute_result"
    }
   ],
   "source": [
    "tablica >50 # zwraca macierz logiczną z wartościami większymi niż 50"
   ]
  },
  {
   "cell_type": "code",
   "execution_count": 85,
   "metadata": {},
   "outputs": [
    {
     "data": {
      "text/plain": [
       "array([54.2544368 , 67.41336151, 61.77669785, 51.31382426, 65.03971819,\n",
       "       60.10389534, 80.52231968, 52.16471524, 90.86488808, 82.86813263,\n",
       "       62.62871483, 54.75861559, 85.68503025])"
      ]
     },
     "execution_count": 85,
     "metadata": {},
     "output_type": "execute_result"
    }
   ],
   "source": [
    "tablica[tablica>50] # zwraca listę wartości większych niż 50"
   ]
  },
  {
   "cell_type": "code",
   "execution_count": 86,
   "metadata": {},
   "outputs": [
    {
     "data": {
      "text/plain": [
       "array([[ True,  True, False,  True, False],\n",
       "       [False,  True,  True,  True,  True],\n",
       "       [ True,  True,  True, False,  True],\n",
       "       [False,  True,  True,  True,  True],\n",
       "       [ True,  True,  True,  True, False]])"
      ]
     },
     "execution_count": 86,
     "metadata": {},
     "output_type": "execute_result"
    }
   ],
   "source": [
    "(tablica>50) | (tablica<20) # zwraca macierz logiczną wartości większych niż 50 i mniejszych niż 20"
   ]
  },
  {
   "cell_type": "code",
   "execution_count": 87,
   "metadata": {},
   "outputs": [
    {
     "data": {
      "text/plain": [
       "array([54.2544368 , 14.21700476, 67.41336151, 61.77669785, 51.31382426,\n",
       "       65.03971819, 60.10389534, 80.52231968, 52.16471524, 90.86488808,\n",
       "        9.04593493, 11.39843619, 82.86813263,  4.68963194, 62.62871483,\n",
       "       54.75861559,  5.        ,  5.        , 85.68503025])"
      ]
     },
     "execution_count": 87,
     "metadata": {},
     "output_type": "execute_result"
    }
   ],
   "source": [
    "tablica[(tablica>50) | (tablica<20)] # zwraca listę wartości większych niż 50 i mniejszych niż 20"
   ]
  },
  {
   "cell_type": "markdown",
   "metadata": {},
   "source": [
    "## Obliczenia matematyczne skalarne i wektorowe na macierzach NumPy"
   ]
  },
  {
   "cell_type": "code",
   "execution_count": 88,
   "metadata": {},
   "outputs": [
    {
     "data": {
      "text/plain": [
       "array([[54.2544368 , 14.21700476, 37.33407601, 67.41336151, 44.18331744],\n",
       "       [43.40139933, 61.77669785, 51.31382426, 65.03971819, 60.10389534],\n",
       "       [80.52231968, 52.16471524, 90.86488808, 31.9236089 ,  9.04593493],\n",
       "       [30.07000566, 11.39843619, 82.86813263,  4.68963194, 62.62871483],\n",
       "       [54.75861559,  5.        ,  5.        , 85.68503025, 35.16526394]])"
      ]
     },
     "execution_count": 88,
     "metadata": {},
     "output_type": "execute_result"
    }
   ],
   "source": [
    "tablica"
   ]
  },
  {
   "cell_type": "code",
   "execution_count": 89,
   "metadata": {},
   "outputs": [],
   "source": [
    "dodawanie_tablica= np.add(tablica,5) # dodaje 5 do każdej wartości w tablicy"
   ]
  },
  {
   "cell_type": "code",
   "execution_count": 90,
   "metadata": {},
   "outputs": [],
   "source": [
    "odejmowanie_tablica=np.subtract(tablica[0],100) # odejmuje 100 od każdej wartości z pierwszego wiersza w tablicy"
   ]
  },
  {
   "cell_type": "code",
   "execution_count": 91,
   "metadata": {},
   "outputs": [],
   "source": [
    "mnożenie_tablica=np.multiply(tablica[0], tablica[4]) # mnoży element z pierwszego wiersza z elementem z ostatniego wiersza konsekutywnie"
   ]
  },
  {
   "cell_type": "code",
   "execution_count": 92,
   "metadata": {},
   "outputs": [],
   "source": [
    "dzielenie_tablica=np.divide(tablica[1],1000) #dzieli każdy element z wiersza drugiego przez 1000"
   ]
  },
  {
   "cell_type": "code",
   "execution_count": 93,
   "metadata": {},
   "outputs": [],
   "source": [
    "potęga_tablica = np.power(tablica[2],2) #podnosi każdy element z 3-go wiersza tablicy do potęgi 4-tej"
   ]
  },
  {
   "cell_type": "markdown",
   "metadata": {},
   "source": [
    "### Inne funkcje: sqrt, sin, log, abs, ceil (up), floor (down), round"
   ]
  },
  {
   "cell_type": "code",
   "execution_count": 94,
   "metadata": {},
   "outputs": [],
   "source": [
    "zaokr_w_gore_tablica = np.ceil(tablica)"
   ]
  },
  {
   "cell_type": "code",
   "execution_count": 95,
   "metadata": {},
   "outputs": [],
   "source": [
    "zaokr_w_dol_tablica = np.floor(tablica)"
   ]
  },
  {
   "cell_type": "code",
   "execution_count": 96,
   "metadata": {},
   "outputs": [],
   "source": [
    "zaokr_do_calk_tablica = np.round(tablica)"
   ]
  },
  {
   "cell_type": "markdown",
   "metadata": {},
   "source": [
    "## Statystyki NumPy"
   ]
  },
  {
   "cell_type": "code",
   "execution_count": 97,
   "metadata": {},
   "outputs": [],
   "source": [
    "średnia_tablica = np.mean(tablica) #oblicza średnią dla całej tablicy"
   ]
  },
  {
   "cell_type": "code",
   "execution_count": 98,
   "metadata": {},
   "outputs": [],
   "source": [
    "średnia_kolumny_tablica = np.mean(tablica, axis=0) # średnia z każdej kolumny"
   ]
  },
  {
   "cell_type": "code",
   "execution_count": 99,
   "metadata": {},
   "outputs": [],
   "source": [
    "suma_tablica = np.sum(tablica[0:2])  # suma wartości z wiersza pierwszego i drugiego"
   ]
  },
  {
   "cell_type": "code",
   "execution_count": 100,
   "metadata": {},
   "outputs": [],
   "source": [
    "minimalna_w_tablicy = np.min(tablica[:,2]) # wartość minimalna wszystkie wiersze, 3-cia kolumna"
   ]
  },
  {
   "cell_type": "code",
   "execution_count": 101,
   "metadata": {},
   "outputs": [],
   "source": [
    "maksymalna_w_tablicy = np.max(tablica, axis=1) # wyszukuje najwyższe wartości z każdego wiersza"
   ]
  },
  {
   "cell_type": "code",
   "execution_count": 102,
   "metadata": {},
   "outputs": [],
   "source": [
    "suma_tablica = np.sum(tablica[tablica<=5]) # suma wartości <=5"
   ]
  },
  {
   "cell_type": "code",
   "execution_count": 103,
   "metadata": {},
   "outputs": [],
   "source": [
    "wariancja_tablica = np.var(tablica) # wariancja z tablicy"
   ]
  },
  {
   "cell_type": "code",
   "execution_count": 104,
   "metadata": {},
   "outputs": [],
   "source": [
    "odch_std_tablica =np.std(tablica)"
   ]
  },
  {
   "cell_type": "code",
   "execution_count": 105,
   "metadata": {},
   "outputs": [],
   "source": [
    "korelacja_tablica =np.corrcoef(tablica)"
   ]
  },
  {
   "cell_type": "markdown",
   "metadata": {},
   "source": [
    "# PANDAS"
   ]
  },
  {
   "cell_type": "code",
   "execution_count": 108,
   "metadata": {},
   "outputs": [],
   "source": [
    "import pandas as pd"
   ]
  },
  {
   "cell_type": "code",
   "execution_count": 111,
   "metadata": {},
   "outputs": [
    {
     "data": {
      "text/html": [
       "<div>\n",
       "<style scoped>\n",
       "    .dataframe tbody tr th:only-of-type {\n",
       "        vertical-align: middle;\n",
       "    }\n",
       "\n",
       "    .dataframe tbody tr th {\n",
       "        vertical-align: top;\n",
       "    }\n",
       "\n",
       "    .dataframe thead th {\n",
       "        text-align: right;\n",
       "    }\n",
       "</style>\n",
       "<table border=\"1\" class=\"dataframe\">\n",
       "  <thead>\n",
       "    <tr style=\"text-align: right;\">\n",
       "      <th></th>\n",
       "      <th>Imię</th>\n",
       "      <th>Wiek</th>\n",
       "      <th>Pensja</th>\n",
       "      <th>Lata pracy</th>\n",
       "      <th>ID</th>\n",
       "    </tr>\n",
       "  </thead>\n",
       "  <tbody>\n",
       "    <tr>\n",
       "      <th>0</th>\n",
       "      <td>Muminek</td>\n",
       "      <td>20</td>\n",
       "      <td>5946,21</td>\n",
       "      <td>1</td>\n",
       "      <td>MU-60-K</td>\n",
       "    </tr>\n",
       "    <tr>\n",
       "      <th>1</th>\n",
       "      <td>Mamusia</td>\n",
       "      <td>45</td>\n",
       "      <td>5578,5</td>\n",
       "      <td>25</td>\n",
       "      <td>MA-67-A</td>\n",
       "    </tr>\n",
       "    <tr>\n",
       "      <th>2</th>\n",
       "      <td>Tatuś</td>\n",
       "      <td>45</td>\n",
       "      <td>3071,6</td>\n",
       "      <td>25</td>\n",
       "      <td>TA-29-Ś</td>\n",
       "    </tr>\n",
       "    <tr>\n",
       "      <th>3</th>\n",
       "      <td>Mała Mi</td>\n",
       "      <td>18</td>\n",
       "      <td>5216,36</td>\n",
       "      <td>2</td>\n",
       "      <td>MA-53-I</td>\n",
       "    </tr>\n",
       "    <tr>\n",
       "      <th>4</th>\n",
       "      <td>Włóczykij</td>\n",
       "      <td>25</td>\n",
       "      <td>3853,83</td>\n",
       "      <td>6</td>\n",
       "      <td>W?-70-J</td>\n",
       "    </tr>\n",
       "    <tr>\n",
       "      <th>5</th>\n",
       "      <td>Migotka</td>\n",
       "      <td>22</td>\n",
       "      <td>3243,95</td>\n",
       "      <td>5</td>\n",
       "      <td>MI-89-A</td>\n",
       "    </tr>\n",
       "    <tr>\n",
       "      <th>6</th>\n",
       "      <td>Migotek</td>\n",
       "      <td>23</td>\n",
       "      <td>3175,94</td>\n",
       "      <td>5</td>\n",
       "      <td>MI-39-K</td>\n",
       "    </tr>\n",
       "    <tr>\n",
       "      <th>7</th>\n",
       "      <td>Buka</td>\n",
       "      <td>50</td>\n",
       "      <td>5731,6</td>\n",
       "      <td>35</td>\n",
       "      <td>BU-81-A</td>\n",
       "    </tr>\n",
       "    <tr>\n",
       "      <th>8</th>\n",
       "      <td>Topik</td>\n",
       "      <td>40</td>\n",
       "      <td>8167,8</td>\n",
       "      <td>20</td>\n",
       "      <td>TO-73-K</td>\n",
       "    </tr>\n",
       "    <tr>\n",
       "      <th>9</th>\n",
       "      <td>Topcia</td>\n",
       "      <td>40</td>\n",
       "      <td>8852,16</td>\n",
       "      <td>18</td>\n",
       "      <td>TO-53-A</td>\n",
       "    </tr>\n",
       "  </tbody>\n",
       "</table>\n",
       "</div>"
      ],
      "text/plain": [
       "        Imię  Wiek   Pensja  Lata pracy       ID\n",
       "0    Muminek    20  5946,21           1  MU-60-K\n",
       "1    Mamusia    45   5578,5          25  MA-67-A\n",
       "2      Tatuś    45   3071,6          25  TA-29-Ś\n",
       "3    Mała Mi    18  5216,36           2  MA-53-I\n",
       "4  Włóczykij    25  3853,83           6  W?-70-J\n",
       "5    Migotka    22  3243,95           5  MI-89-A\n",
       "6    Migotek    23  3175,94           5  MI-39-K\n",
       "7       Buka    50   5731,6          35  BU-81-A\n",
       "8      Topik    40   8167,8          20  TO-73-K\n",
       "9     Topcia    40  8852,16          18  TO-53-A"
      ]
     },
     "execution_count": 111,
     "metadata": {},
     "output_type": "execute_result"
    }
   ],
   "source": [
    "df = pd.read_excel('baza.xlsx')\n",
    "df"
   ]
  },
  {
   "cell_type": "code",
   "execution_count": null,
   "metadata": {},
   "outputs": [],
   "source": []
  }
 ],
 "metadata": {
  "kernelspec": {
   "display_name": "Python 3.8.2 64-bit",
   "language": "python",
   "name": "python38264bit305052ef6a464fa6bfdbb7e1ed0d49a4"
  },
  "language_info": {
   "codemirror_mode": {
    "name": "ipython",
    "version": 3
   },
   "file_extension": ".py",
   "mimetype": "text/x-python",
   "name": "python",
   "nbconvert_exporter": "python",
   "pygments_lexer": "ipython3",
   "version": "3.8.2"
  }
 },
 "nbformat": 4,
 "nbformat_minor": 4
}
